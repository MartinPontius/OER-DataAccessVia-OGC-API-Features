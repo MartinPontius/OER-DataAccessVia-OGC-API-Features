{
 "cells": [
  {
   "cell_type": "code",
   "execution_count": null,
   "metadata": {},
   "outputs": [],
   "source": [
    "import numpy as np\n",
    "import pandas as pd\n",
    "import geopandas as gpd\n",
    "from owslib.ogcapi.features import Features\n",
    "import json\n",
    "import requests"
   ]
  },
  {
   "cell_type": "code",
   "execution_count": null,
   "metadata": {},
   "outputs": [],
   "source": [
    "# To check whether the pygeoapi server is running\n",
    "# Endpoint should be following the url signature image name : port number as per the docker networking strategy\n",
    "endpoint = \"http://pygeoapi:80\"\n",
    "response = requests.get(endpoint)\n",
    "if response.status_code == 200:\n",
    "    print(\"pygeoapi server is running!\")\n",
    "else:\n",
    "    print(\"pygeoapi server is not running.\")\n",
    "\n"
   ]
  },
  {
   "cell_type": "code",
   "execution_count": null,
   "metadata": {},
   "outputs": [],
   "source": [
    "feature_dataset = Features('http://pygeoapi:80')\n",
    "collections = feature_dataset.collections() \n",
    "print(json.dumps(collections, indent=4))"
   ]
  },
  {
   "cell_type": "code",
   "execution_count": null,
   "metadata": {},
   "outputs": [],
   "source": [
    "\n",
    "protected_sites = feature_dataset.collection('Biospharenreservate')\n",
    "print(json.dumps(protected_sites, indent=2))"
   ]
  },
  {
   "cell_type": "code",
   "execution_count": null,
   "metadata": {},
   "outputs": [],
   "source": [
    "# View the queryable parameters available in the dataset.\n",
    "protected_sites_queryables = feature_dataset.collection_queryables('Biospharenreservate')\n",
    "print(json.dumps(protected_sites_queryables, indent=2))"
   ]
  },
  {
   "cell_type": "code",
   "execution_count": null,
   "metadata": {},
   "outputs": [],
   "source": [
    "# Access items from concerned collection\n",
    "protected_sites_items = feature_dataset.collection_items('lakes') \n",
    "print(json.dumps(protected_sites_items, indent=4))"
   ]
  },
  {
   "cell_type": "code",
   "execution_count": null,
   "metadata": {},
   "outputs": [],
   "source": [
    "# Store the queried feature items\n",
    "protected_sites_features = protected_sites_items['features']\n",
    "\n",
    "# To access a feature from the stored variable\n",
    "protected_sites_features[0]"
   ]
  }
 ],
 "metadata": {
  "language_info": {
   "name": "python"
  },
  "orig_nbformat": 4
 },
 "nbformat": 4,
 "nbformat_minor": 2
}
