{
 "cells": [
  {
   "cell_type": "code",
   "execution_count": null,
   "id": "74955a28",
   "metadata": {},
   "outputs": [],
   "source": [
    "import numpy as np\n",
    "import pandas as pd\n",
    "import geopandas as gpd\n",
    "from owslib.ogcapi.features import Features\n",
    "import json\n",
    "import requests"
   ]
  },
  {
   "cell_type": "code",
   "execution_count": null,
   "id": "49419574",
   "metadata": {
    "scrolled": true
   },
   "outputs": [
    {
     "name": "stdout",
     "output_type": "stream",
     "text": [
      "pygeoapi server is running!\n"
     ]
    }
   ],
   "source": [
    "# To check whether the pygeoapi server is running\n",
    "# Endpoint should be following the url signature image name : port number as per the docker networking strategy\n",
    "endpoint = \"http://pygeoapi:80\"\n",
    "response = requests.get(endpoint)\n",
    "if response.status_code == 200:\n",
    "    print(\"pygeoapi server is running!\")\n",
    "else:\n",
    "    print(\"pygeoapi server is not running.\")\n",
    "\n"
   ]
  },
  {
   "cell_type": "code",
   "execution_count": null,
   "id": "70e8cde0",
   "metadata": {},
   "outputs": [],
   "source": [
    "feature_dataset = Features('http://pygeoapi:80')\n",
    "collections = feature_dataset.collections() \n",
    "print(json.dumps(collections, indent=4))"
   ]
  },
  {
   "cell_type": "code",
   "execution_count": null,
   "id": "64fc086e",
   "metadata": {},
   "outputs": [],
   "source": [
    "\n",
    "lakes = feature_dataset.collection('lakes')\n",
    "print(json.dumps(lakes, indent=2))"
   ]
  },
  {
   "cell_type": "code",
   "execution_count": null,
   "id": "6c6bacf0",
   "metadata": {},
   "outputs": [],
   "source": [
    "# View the queryable parameters available in the dataset.\n",
    "lakes_queryables = feature_dataset.collection_queryables('lakes')\n",
    "print(json.dumps(lakes_queryables, indent=2))"
   ]
  },
  {
   "cell_type": "code",
   "execution_count": null,
   "id": "0ecf9b3b",
   "metadata": {},
   "outputs": [],
   "source": [
    "# Access items from concerned collection\n",
    "lakes_items = feature_dataset.collection_items('lakes') \n",
    "print(json.dumps(lakes_items, indent=4))"
   ]
  },
  {
   "cell_type": "code",
   "execution_count": null,
   "id": "33db056c",
   "metadata": {},
   "outputs": [],
   "source": [
    "# Store the queried feature items\n",
    "lakes_features = lakes_items['features']\n",
    "\n",
    "# To access a feature from the stored variable\n",
    "lakes_features[0]"
   ]
  },
  {
   "cell_type": "code",
   "execution_count": null,
   "id": "93a1130f",
   "metadata": {},
   "outputs": [],
   "source": []
  },
  {
   "cell_type": "code",
   "execution_count": null,
   "id": "bb7b9609",
   "metadata": {},
   "outputs": [],
   "source": []
  }
 ],
 "metadata": {
  "kernelspec": {
   "display_name": "Python 3 (ipykernel)",
   "language": "python",
   "name": "python3"
  },
  "language_info": {
   "codemirror_mode": {
    "name": "ipython",
    "version": 3
   },
   "file_extension": ".py",
   "mimetype": "text/x-python",
   "name": "python",
   "nbconvert_exporter": "python",
   "pygments_lexer": "ipython3",
   "version": "3.8.16"
  }
 },
 "nbformat": 4,
 "nbformat_minor": 5
}
