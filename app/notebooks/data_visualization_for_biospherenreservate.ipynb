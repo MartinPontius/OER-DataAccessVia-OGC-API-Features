{
 "cells": [
  {
   "cell_type": "code",
   "execution_count": null,
   "id": "74955a28",
   "metadata": {},
   "outputs": [],
   "source": [
    "import contextily as ctx\n",
    "import geopandas as gpd\n",
    "import json\n",
    "import matplotlib.pyplot as plt\n",
    "import numpy as np\n",
    "from owslib.ogcapi.features import Features\n",
    "import pandas as pd\n",
    "import requests"
   ]
  },
  {
   "cell_type": "code",
   "execution_count": null,
   "id": "49419574",
   "metadata": {
    "scrolled": true
   },
   "outputs": [
    {
     "name": "stdout",
     "output_type": "stream",
     "text": [
      "pygeoapi server is running!\n"
     ]
    }
   ],
   "source": [
    "# To check whether the pygeoapi server is running\n",
    "# Endpoint should be following the url signature image name : port number as per the docker networking strategy\n",
    "endpoint = \"http://pygeoapi:80\"\n",
    "response = requests.get(endpoint)\n",
    "if response.status_code == 200:\n",
    "    print(\"pygeoapi server is running!\")\n",
    "else:\n",
    "    print(\"pygeoapi server is not running.\")\n",
    "\n"
   ]
  },
  {
   "cell_type": "code",
   "execution_count": null,
   "id": "70e8cde0",
   "metadata": {},
   "outputs": [],
   "source": [
    "feature_dataset = Features('http://pygeoapi:80')\n",
    "collections = feature_dataset.collections() \n",
    "print(json.dumps(collections, indent=4))"
   ]
  },
  {
   "cell_type": "code",
   "execution_count": null,
   "id": "64fc086e",
   "metadata": {},
   "outputs": [],
   "source": [
    "\n",
    "protected_sites = feature_dataset.collection('Biospharenreservate')\n",
    "print(json.dumps(protected_sites, indent=2))"
   ]
  },
  {
   "cell_type": "code",
   "execution_count": null,
   "id": "6c6bacf0",
   "metadata": {},
   "outputs": [],
   "source": [
    "\n",
    "# Specify the URL of your PyGeoAPI feature dataset\n",
    "pygeoapi_url_to_access_dataset = \"http://pygeoapi:80/collections/Biospharenreservate/items\"\n",
    "\n",
    "# Make an HTTP GET request to fetch the GeoJSON data\n",
    "response = requests.get(pygeoapi_url_to_access_dataset)\n",
    "biospharenreservate_json_data = response.json()\n",
    "print(biospharenreservate_json_data)"
   ]
  },
  {
   "cell_type": "code",
   "execution_count": null,
   "id": "0ecf9b3b",
   "metadata": {},
   "outputs": [],
   "source": [
    "# Create a GeoDataFrame directly from the GeoJSON data\n",
    "biospharenreservate_data = gpd.GeoDataFrame.from_features(biospharenreservate_json_data['features'])\n",
    "print(biospharenreservate_data)"
   ]
  },
  {
   "cell_type": "code",
   "execution_count": null,
   "id": "372639d0",
   "metadata": {},
   "outputs": [],
   "source": [
    "# Create a plot\n",
    "ax = biospharenreservate_data.plot(figsize=(6, 6), alpha=0.5, edgecolor='k')\n",
    "\n",
    "# Add basemap from OpenStreetMap using contextily with a valid zoom level \n",
    "ctx.add_basemap(ax, source=ctx.providers.OpenStreetMap.Mapnik, zoom=10)\n",
    "\n",
    "# Set the title\n",
    "plt.title('Geometries on Base Map')\n",
    "\n",
    "# Show the plot\n",
    "plt.show()"
   ]
  }
 ],
 "metadata": {
  "kernelspec": {
   "display_name": "Python 3 (ipykernel)",
   "language": "python",
   "name": "python3"
  },
  "language_info": {
   "codemirror_mode": {
    "name": "ipython",
    "version": 3
   },
   "file_extension": ".py",
   "mimetype": "text/x-python",
   "name": "python",
   "nbconvert_exporter": "python",
   "pygments_lexer": "ipython3",
   "version": "3.8.16"
  }
 },
 "nbformat": 4,
 "nbformat_minor": 5
}
