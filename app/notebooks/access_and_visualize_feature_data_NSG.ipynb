{
 "cells": [
  {
   "cell_type": "markdown",
   "id": "79363010",
   "metadata": {},
   "source": [
    "#### Importing Library Dependencies"
   ]
  },
  {
   "cell_type": "code",
   "execution_count": null,
   "id": "e3108e04",
   "metadata": {},
   "outputs": [],
   "source": [
    "# Import\n",
    "import contextily as ctx\n",
    "import folium\n",
    "import geodatasets\n",
    "import geopandas as gpd\n",
    "import json\n",
    "import matplotlib.pyplot as plt\n",
    "import numpy as np\n",
    "from owslib.ogcapi.features import Features\n",
    "import pandas as pd\n",
    "import requests"
   ]
  },
  {
   "cell_type": "markdown",
   "id": "087f77a6",
   "metadata": {},
   "source": [
    "#### To check PyGeoAPI connectivity from the notebook environment"
   ]
  },
  {
   "cell_type": "code",
   "execution_count": null,
   "id": "49419574",
   "metadata": {
    "scrolled": true
   },
   "outputs": [
    {
     "name": "stdout",
     "output_type": "stream",
     "text": [
      "pygeoapi server is running!\n"
     ]
    }
   ],
   "source": [
    "# To check whether the pygeoapi server is running\n",
    "# Endpoint should be following the url signature image name : port number as per the docker networking strategy\n",
    "endpoint = \"http://pygeoapi:80\"\n",
    "response = requests.get(endpoint)\n",
    "if response.status_code == 200:\n",
    "    print(\"pygeoapi server is running!\")\n",
    "else:\n",
    "    print(\"pygeoapi server is not running.\")\n"
   ]
  },
  {
   "cell_type": "markdown",
   "id": "83e047c5",
   "metadata": {},
   "source": [
    "#### To list the collections available in the server instance"
   ]
  },
  {
   "cell_type": "code",
   "execution_count": null,
   "id": "70e8cde0",
   "metadata": {},
   "outputs": [],
   "source": [
    "feature_dataset = Features('http://pygeoapi:80')\n",
    "collections = feature_dataset.collections() \n",
    "print(json.dumps(collections, indent=4))"
   ]
  },
  {
   "cell_type": "markdown",
   "id": "ff6443b8",
   "metadata": {},
   "source": [
    "#### Access a specific feature of interest"
   ]
  },
  {
   "cell_type": "code",
   "execution_count": null,
   "id": "64fc086e",
   "metadata": {},
   "outputs": [],
   "source": [
    "\n",
    "protected_sites = feature_dataset.collection('NSG')\n",
    "print(json.dumps(protected_sites, indent=2))"
   ]
  },
  {
   "cell_type": "markdown",
   "id": "35fc711b",
   "metadata": {},
   "source": [
    "#### View the queryable parameters and their datatypes"
   ]
  },
  {
   "cell_type": "code",
   "execution_count": null,
   "id": "9d4f8d99",
   "metadata": {},
   "outputs": [],
   "source": [
    "# View the queryable parameters available in the dataset.\n",
    "protected_sites_queryables = feature_dataset.collection_queryables('NSG')\n",
    "print(json.dumps(protected_sites_queryables, indent=2))"
   ]
  },
  {
   "cell_type": "markdown",
   "id": "278e1dd8",
   "metadata": {},
   "source": [
    "#### Access items from concerned collection"
   ]
  },
  {
   "cell_type": "code",
   "execution_count": null,
   "id": "f3a9b18f",
   "metadata": {},
   "outputs": [],
   "source": [
    "protected_sites_items = feature_dataset.collection_items('NSG') \n",
    "print(json.dumps(protected_sites_items, indent=4))"
   ]
  },
  {
   "cell_type": "markdown",
   "id": "15a432f2",
   "metadata": {},
   "source": [
    "#### Store the queried feature items"
   ]
  },
  {
   "cell_type": "code",
   "execution_count": null,
   "id": "329448f5",
   "metadata": {},
   "outputs": [],
   "source": [
    "# Store the queried feature items\n",
    "protected_sites_features = protected_sites_items['features']\n",
    "\n",
    "# To access a feature from the stored variable\n",
    "protected_sites_features[0]"
   ]
  },
  {
   "cell_type": "markdown",
   "id": "be6901a0",
   "metadata": {},
   "source": [
    "#### To access items of a dataset from the PyGeoAPI endpoint"
   ]
  },
  {
   "cell_type": "code",
   "execution_count": null,
   "id": "6c6bacf0",
   "metadata": {},
   "outputs": [],
   "source": [
    "\n",
    "# Specify the URL of your PyGeoAPI feature dataset\n",
    "pygeoapi_url_to_access_dataset = \"http://pygeoapi:80/collections/NSG/items\"\n",
    "\n",
    "# Make an HTTP GET request to fetch the GeoJSON data\n",
    "response = requests.get(pygeoapi_url_to_access_dataset)\n",
    "nsg_json_data = response.json()\n",
    "print(nsg_json_data)"
   ]
  },
  {
   "cell_type": "code",
   "execution_count": null,
   "id": "0ecf9b3b",
   "metadata": {},
   "outputs": [],
   "source": [
    "# Create a GeoDataFrame directly from the GeoJSON data\n",
    "nsg_data = gpd.GeoDataFrame.from_features(nsg_json_data['features'])\n",
    "print(nsg_data)"
   ]
  },
  {
   "cell_type": "code",
   "execution_count": null,
   "id": "372639d0",
   "metadata": {},
   "outputs": [],
   "source": [
    "# Create a plot\n",
    "ax = nsg_data.plot(figsize=(8, 8), alpha=0.5, edgecolor='k')\n",
    "\n",
    "# Add basemap from OpenStreetMap using contextily with a valid zoom level \n",
    "ctx.add_basemap(ax, source=ctx.providers.OpenStreetMap.Mapnik, zoom=10)\n",
    "\n",
    "# Set the title\n",
    "plt.title('Geometries on Base Map')\n",
    "\n",
    "# Show the plot\n",
    "plt.show()"
   ]
  },
  {
   "cell_type": "code",
   "execution_count": null,
   "id": "33320ed4",
   "metadata": {},
   "outputs": [],
   "source": [
    "# Set the CRS for your GeoDataFrame (assuming it's EPSG 4647)\n",
    "nsg_data.crs = 'EPSG:4647'\n",
    "\n",
    "# Create a base map centered around the geometries\n",
    "map_center = nsg_data.unary_union.centroid\n",
    "m = folium.Map(location=[map_center.y, map_center.x], zoom_start=9)\n",
    "\n",
    "# Style function to make the geometries deep blue\n",
    "def style_function(feature):\n",
    "    return {\n",
    "        'fillColor': 'deepskyblue',  # Fill color\n",
    "        'color': 'deepskyblue',      # Border color\n",
    "        'weight': 2,                # Border width\n",
    "        'fillOpacity': 0.6          # Fill opacity\n",
    "    }\n",
    "\n",
    "# Iterate through the GeoDataFrame and add geometries to the map\n",
    "for index, row in nsg_data.iterrows():\n",
    "    folium.GeoJson(\n",
    "        row['geometry'],\n",
    "        style_function=style_function\n",
    "    ).add_to(m)\n",
    "\n",
    "# Save the map to an HTML file or display it in a Jupyter Notebook\n",
    "# m.save('interactive_map.html')  # Save as an HTML file\n",
    "m "
   ]
  },
  {
   "cell_type": "markdown",
   "id": "4b2513ec",
   "metadata": {},
   "source": [
    "#### Visualizing the geometries with buffer regions"
   ]
  },
  {
   "cell_type": "code",
   "execution_count": null,
   "id": "9f3fa961",
   "metadata": {},
   "outputs": [],
   "source": [
    "nsg_data.crs = 'EPSG:4647'\n",
    "\n",
    "# Create a base map centered around the geometries\n",
    "map_center = nsg_data.unary_union.centroid\n",
    "m = folium.Map(location=[map_center.y, map_center.x], zoom_start=9)\n",
    "\n",
    "# Style function for the original geometries\n",
    "def style_function_geom(feature):\n",
    "    return {\n",
    "        'fillColor': 'deepskyblue',  # Fill color for geometries\n",
    "        'color': 'deepskyblue',      # Border color for geometries\n",
    "        'weight': 2,                # Border width for geometries\n",
    "        'fillOpacity': 0.6          # Fill opacity for geometries\n",
    "    }\n",
    "\n",
    "# Style function for the buffer areas\n",
    "def style_function_buffer(feature):\n",
    "    return {\n",
    "        'fillColor': 'red',         # Fill color for buffer areas\n",
    "        'color': 'red',             # Border color for buffer areas\n",
    "        'weight': 2,                # Border width for buffer areas\n",
    "        'fillOpacity': 0.6          # Fill opacity for buffer areas\n",
    "    }\n",
    "\n",
    "# Buffer function to create a buffer around the geometries\n",
    "def create_buffer(geometry, buffer_distance):\n",
    "    return geometry.buffer(buffer_distance)\n",
    "\n",
    "# Iterate through the GeoDataFrame, add buffer areas, and add them to the map\n",
    "buffer_distance = 0.02  # Adjust the buffer distance as needed\n",
    "for index, row in nsg_data.iterrows():\n",
    "    buffered_geometry = create_buffer(row['geometry'], buffer_distance)\n",
    "    \n",
    "    # Add the original geometries with style\n",
    "    folium.GeoJson(\n",
    "        data={\n",
    "            'type': 'Feature',\n",
    "            'geometry': row['geometry'].__geo_interface__,\n",
    "            'properties': {},\n",
    "        },\n",
    "        style_function=style_function_geom\n",
    "    ).add_to(m)\n",
    "\n",
    "    # Add the buffered geometries with style\n",
    "    folium.GeoJson(\n",
    "        data={\n",
    "            'type': 'Feature',\n",
    "            'geometry': buffered_geometry.__geo_interface__,\n",
    "            'properties': {},\n",
    "        },\n",
    "        style_function=style_function_buffer\n",
    "    ).add_to(m)\n",
    "\n",
    "# Save the map to an HTML file or display it in a Jupyter Notebook\n",
    "# m.save('interactive_map_with_buffer.html')  # Save as an HTML file\n",
    "m"
   ]
  }
 ],
 "metadata": {
  "kernelspec": {
   "display_name": "Python 3 (ipykernel)",
   "language": "python",
   "name": "python3"
  },
  "language_info": {
   "codemirror_mode": {
    "name": "ipython",
    "version": 3
   },
   "file_extension": ".py",
   "mimetype": "text/x-python",
   "name": "python",
   "nbconvert_exporter": "python",
   "pygments_lexer": "ipython3",
   "version": "3.8.16"
  }
 },
 "nbformat": 4,
 "nbformat_minor": 5
}
